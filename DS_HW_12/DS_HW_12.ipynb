{
  "nbformat": 4,
  "nbformat_minor": 0,
  "metadata": {
    "colab": {
      "provenance": [],
      "authorship_tag": "ABX9TyP2XPM04JgMmakVaeRMOg6d",
      "include_colab_link": true
    },
    "kernelspec": {
      "name": "python3",
      "display_name": "Python 3"
    },
    "language_info": {
      "name": "python"
    }
  },
  "cells": [
    {
      "cell_type": "markdown",
      "metadata": {
        "id": "view-in-github",
        "colab_type": "text"
      },
      "source": [
        "<a href=\"https://colab.research.google.com/github/OleksiiLatypov/Data_Science_Homeworks/blob/master/DS_HW_12/DS_HW_12.ipynb\" target=\"_parent\"><img src=\"https://colab.research.google.com/assets/colab-badge.svg\" alt=\"Open In Colab\"/></a>"
      ]
    },
    {
      "cell_type": "markdown",
      "source": [
        "Зробіть summary нижчевказаного тексту використовуючи бібліотеки для NLP: nltk та SpaCy\n",
        "\n"
      ],
      "metadata": {
        "id": "OsikHjj4KVEu"
      }
    },
    {
      "cell_type": "code",
      "source": [
        "text = 'The Orbiter Discovery, OV-103, is considered eligible for listing in the National Register of Historic Places (NRHP) in the context of the U.S. Space Shuttle Program (1969-2011) under Criterion A in the areas of Space Exploration and Transportation and under Criterion C in the area of Engineering. Because it has achieved significance within the past fifty years, Criteria Consideration G applies. Under Criterion A, Discovery is significant as the oldest of the three extant orbiter vehicles constructed for the Space Shuttle Program (SSP), the longest running American space program to date; she was the third of five orbiters built by NASA. Unlike the Mercury, Gemini, and Apollo programs, the SSP’s emphasis was on cost effectiveness and reusability, and eventually the construction of a space station. Including her maiden voyage (launched August 30, 1984), Discovery flew to space thirty-nine times, more than any of the other four orbiters; she was also the first orbiter to fly twenty missions. She had the honor of being chosen as the Return to Flight vehicle after both the Challenger and Columbia accidents. Discovery was the first shuttle to fly with the redesigned SRBs, a result of the Challenger accident, and the first shuttle to fly with the Phase II and Block I SSME. Discovery also carried the Hubble Space Telescope to orbit and performed two of the five servicing missions to the observatory. She flew the first and last dedicated Department of Defense (DoD) missions, as well as the first unclassified defense-related mission. In addition, Discovery was vital to the construction of the International Space Station (ISS); she flew thirteen of the thirty-seven total missions flown to the station by a U.S. Space Shuttle. She was the first orbiter to dock to the ISS, and the first to perform an exchange of a resident crew. Under Criterion C, Discovery is significant as a feat of engineering. According to Wayne Hale, a flight director from Johnson Space Center, the Space Shuttle orbiter represents a “huge technological leap from expendable rockets and capsules to a reusable, winged, hypersonic, cargo-carrying spacecraft.” Although her base structure followed a conventional aircraft design, she used advanced materials that both minimized her weight for cargo-carrying purposes and featured low thermal expansion ratios, which provided a stable base for her Thermal Protection System (TPS) materials. The Space Shuttle orbiter also featured the first reusable TPS; all previous spaceflight vehicles had a single-use, ablative heat shield. Other notable engineering achievements of the orbiter included the first reusable orbital propulsion system, and the first two-fault-tolerant Integrated Avionics System. As Hale stated, the Space Shuttle remains “the largest, fastest, winged hypersonic aircraft in history,” having regularly flown at twenty-five times the speed of sound.'"
      ],
      "metadata": {
        "id": "hT3DMp4UO61t"
      },
      "execution_count": 1,
      "outputs": []
    },
    {
      "cell_type": "code",
      "source": [
        "import spacy\n",
        "import nltk\n",
        "from nltk.corpus import stopwords\n",
        "from nltk.tokenize import word_tokenize, sent_tokenize\n",
        "from string import punctuation"
      ],
      "metadata": {
        "id": "Dt6vjacnKhZg"
      },
      "execution_count": 2,
      "outputs": []
    },
    {
      "cell_type": "markdown",
      "source": [
        "Перш ніж почати роботу з SpaCy, необхідно завантажити потрібну мовну модель. Наприклад, для англійської мови ми можемо завантажити модель \"en_core_web_sm\":"
      ],
      "metadata": {
        "id": "EwlG5SP6LxZj"
      }
    },
    {
      "cell_type": "code",
      "source": [
        "nlp = spacy.load('en_core_web_sm')"
      ],
      "metadata": {
        "id": "vDg9ykwXLyJ8"
      },
      "execution_count": 3,
      "outputs": []
    },
    {
      "cell_type": "markdown",
      "source": [
        "**Підготовка тексту**\n",
        "\n",
        "Перш ніж почати створювати *text summary*, текст потрібно підготувати. Це включає в себе видалення непотрібних символів, токенізацію (розбиття тексту на окремі слова або речення), видалення стоп-слів (слова, які не несуть суттєвої інформації) і, за необхідності, інші обробки тексту, такі як стемінг або лематизація."
      ],
      "metadata": {
        "id": "1UXWGC_UL_Wi"
      }
    },
    {
      "cell_type": "code",
      "source": [
        "# Текст для обробки\n",
        "#text = \"This is an example sentence for tokenization and lemmatization.\"\n",
        "\n",
        "# Токенізація\n",
        "# Doc object, which represents the analyzed text\n",
        "doc = nlp(text)\n",
        "print(f'Doc object, which represents the analyzed text: {doc}')\n",
        "tokens = [token.text for token in doc]\n",
        "print(tokens)"
      ],
      "metadata": {
        "colab": {
          "base_uri": "https://localhost:8080/"
        },
        "id": "re6V8L7WMHk_",
        "outputId": "96a37fc8-0660-4e9f-b055-922edad9dbb0"
      },
      "execution_count": 4,
      "outputs": [
        {
          "output_type": "stream",
          "name": "stdout",
          "text": [
            "Doc object, which represents the analyzed text: The Orbiter Discovery, OV-103, is considered eligible for listing in the National Register of Historic Places (NRHP) in the context of the U.S. Space Shuttle Program (1969-2011) under Criterion A in the areas of Space Exploration and Transportation and under Criterion C in the area of Engineering. Because it has achieved significance within the past fifty years, Criteria Consideration G applies. Under Criterion A, Discovery is significant as the oldest of the three extant orbiter vehicles constructed for the Space Shuttle Program (SSP), the longest running American space program to date; she was the third of five orbiters built by NASA. Unlike the Mercury, Gemini, and Apollo programs, the SSP’s emphasis was on cost effectiveness and reusability, and eventually the construction of a space station. Including her maiden voyage (launched August 30, 1984), Discovery flew to space thirty-nine times, more than any of the other four orbiters; she was also the first orbiter to fly twenty missions. She had the honor of being chosen as the Return to Flight vehicle after both the Challenger and Columbia accidents. Discovery was the first shuttle to fly with the redesigned SRBs, a result of the Challenger accident, and the first shuttle to fly with the Phase II and Block I SSME. Discovery also carried the Hubble Space Telescope to orbit and performed two of the five servicing missions to the observatory. She flew the first and last dedicated Department of Defense (DoD) missions, as well as the first unclassified defense-related mission. In addition, Discovery was vital to the construction of the International Space Station (ISS); she flew thirteen of the thirty-seven total missions flown to the station by a U.S. Space Shuttle. She was the first orbiter to dock to the ISS, and the first to perform an exchange of a resident crew. Under Criterion C, Discovery is significant as a feat of engineering. According to Wayne Hale, a flight director from Johnson Space Center, the Space Shuttle orbiter represents a “huge technological leap from expendable rockets and capsules to a reusable, winged, hypersonic, cargo-carrying spacecraft.” Although her base structure followed a conventional aircraft design, she used advanced materials that both minimized her weight for cargo-carrying purposes and featured low thermal expansion ratios, which provided a stable base for her Thermal Protection System (TPS) materials. The Space Shuttle orbiter also featured the first reusable TPS; all previous spaceflight vehicles had a single-use, ablative heat shield. Other notable engineering achievements of the orbiter included the first reusable orbital propulsion system, and the first two-fault-tolerant Integrated Avionics System. As Hale stated, the Space Shuttle remains “the largest, fastest, winged hypersonic aircraft in history,” having regularly flown at twenty-five times the speed of sound.\n",
            "['The', 'Orbiter', 'Discovery', ',', 'OV-103', ',', 'is', 'considered', 'eligible', 'for', 'listing', 'in', 'the', 'National', 'Register', 'of', 'Historic', 'Places', '(', 'NRHP', ')', 'in', 'the', 'context', 'of', 'the', 'U.S.', 'Space', 'Shuttle', 'Program', '(', '1969', '-', '2011', ')', 'under', 'Criterion', 'A', 'in', 'the', 'areas', 'of', 'Space', 'Exploration', 'and', 'Transportation', 'and', 'under', 'Criterion', 'C', 'in', 'the', 'area', 'of', 'Engineering', '.', 'Because', 'it', 'has', 'achieved', 'significance', 'within', 'the', 'past', 'fifty', 'years', ',', 'Criteria', 'Consideration', 'G', 'applies', '.', 'Under', 'Criterion', 'A', ',', 'Discovery', 'is', 'significant', 'as', 'the', 'oldest', 'of', 'the', 'three', 'extant', 'orbiter', 'vehicles', 'constructed', 'for', 'the', 'Space', 'Shuttle', 'Program', '(', 'SSP', ')', ',', 'the', 'longest', 'running', 'American', 'space', 'program', 'to', 'date', ';', 'she', 'was', 'the', 'third', 'of', 'five', 'orbiters', 'built', 'by', 'NASA', '.', 'Unlike', 'the', 'Mercury', ',', 'Gemini', ',', 'and', 'Apollo', 'programs', ',', 'the', 'SSP', '’s', 'emphasis', 'was', 'on', 'cost', 'effectiveness', 'and', 'reusability', ',', 'and', 'eventually', 'the', 'construction', 'of', 'a', 'space', 'station', '.', 'Including', 'her', 'maiden', 'voyage', '(', 'launched', 'August', '30', ',', '1984', ')', ',', 'Discovery', 'flew', 'to', 'space', 'thirty', '-', 'nine', 'times', ',', 'more', 'than', 'any', 'of', 'the', 'other', 'four', 'orbiters', ';', 'she', 'was', 'also', 'the', 'first', 'orbiter', 'to', 'fly', 'twenty', 'missions', '.', 'She', 'had', 'the', 'honor', 'of', 'being', 'chosen', 'as', 'the', 'Return', 'to', 'Flight', 'vehicle', 'after', 'both', 'the', 'Challenger', 'and', 'Columbia', 'accidents', '.', 'Discovery', 'was', 'the', 'first', 'shuttle', 'to', 'fly', 'with', 'the', 'redesigned', 'SRBs', ',', 'a', 'result', 'of', 'the', 'Challenger', 'accident', ',', 'and', 'the', 'first', 'shuttle', 'to', 'fly', 'with', 'the', 'Phase', 'II', 'and', 'Block', 'I', 'SSME', '.', 'Discovery', 'also', 'carried', 'the', 'Hubble', 'Space', 'Telescope', 'to', 'orbit', 'and', 'performed', 'two', 'of', 'the', 'five', 'servicing', 'missions', 'to', 'the', 'observatory', '.', 'She', 'flew', 'the', 'first', 'and', 'last', 'dedicated', 'Department', 'of', 'Defense', '(', 'DoD', ')', 'missions', ',', 'as', 'well', 'as', 'the', 'first', 'unclassified', 'defense', '-', 'related', 'mission', '.', 'In', 'addition', ',', 'Discovery', 'was', 'vital', 'to', 'the', 'construction', 'of', 'the', 'International', 'Space', 'Station', '(', 'ISS', ')', ';', 'she', 'flew', 'thirteen', 'of', 'the', 'thirty', '-', 'seven', 'total', 'missions', 'flown', 'to', 'the', 'station', 'by', 'a', 'U.S.', 'Space', 'Shuttle', '.', 'She', 'was', 'the', 'first', 'orbiter', 'to', 'dock', 'to', 'the', 'ISS', ',', 'and', 'the', 'first', 'to', 'perform', 'an', 'exchange', 'of', 'a', 'resident', 'crew', '.', 'Under', 'Criterion', 'C', ',', 'Discovery', 'is', 'significant', 'as', 'a', 'feat', 'of', 'engineering', '.', 'According', 'to', 'Wayne', 'Hale', ',', 'a', 'flight', 'director', 'from', 'Johnson', 'Space', 'Center', ',', 'the', 'Space', 'Shuttle', 'orbiter', 'represents', 'a', '“', 'huge', 'technological', 'leap', 'from', 'expendable', 'rockets', 'and', 'capsules', 'to', 'a', 'reusable', ',', 'winged', ',', 'hypersonic', ',', 'cargo', '-', 'carrying', 'spacecraft', '.', '”', 'Although', 'her', 'base', 'structure', 'followed', 'a', 'conventional', 'aircraft', 'design', ',', 'she', 'used', 'advanced', 'materials', 'that', 'both', 'minimized', 'her', 'weight', 'for', 'cargo', '-', 'carrying', 'purposes', 'and', 'featured', 'low', 'thermal', 'expansion', 'ratios', ',', 'which', 'provided', 'a', 'stable', 'base', 'for', 'her', 'Thermal', 'Protection', 'System', '(', 'TPS', ')', 'materials', '.', 'The', 'Space', 'Shuttle', 'orbiter', 'also', 'featured', 'the', 'first', 'reusable', 'TPS', ';', 'all', 'previous', 'spaceflight', 'vehicles', 'had', 'a', 'single', '-', 'use', ',', 'ablative', 'heat', 'shield', '.', 'Other', 'notable', 'engineering', 'achievements', 'of', 'the', 'orbiter', 'included', 'the', 'first', 'reusable', 'orbital', 'propulsion', 'system', ',', 'and', 'the', 'first', 'two', '-', 'fault', '-', 'tolerant', 'Integrated', 'Avionics', 'System', '.', 'As', 'Hale', 'stated', ',', 'the', 'Space', 'Shuttle', 'remains', '“', 'the', 'largest', ',', 'fastest', ',', 'winged', 'hypersonic', 'aircraft', 'in', 'history', ',', '”', 'having', 'regularly', 'flown', 'at', 'twenty', '-', 'five', 'times', 'the', 'speed', 'of', 'sound', '.']\n"
          ]
        }
      ]
    },
    {
      "cell_type": "markdown",
      "source": [
        "**NLTK** також надає розширені функції для обробки тексту. За допомогою методів **NLTK**, таких як word_tokenize, sent_tokenize або stopwords, ми можемо отримати токенизовані слова та речення, а також список стоп-слів."
      ],
      "metadata": {
        "id": "Rr-XHneTMPXV"
      }
    },
    {
      "cell_type": "code",
      "source": [
        "nltk.download('stopwords')\n",
        "nltk.download('punkt')\n"
      ],
      "metadata": {
        "id": "IrIlF6tuMWJu"
      },
      "execution_count": null,
      "outputs": []
    },
    {
      "cell_type": "code",
      "source": [
        "tokens = word_tokenize(text)\n",
        "print(f'Tokens: {tokens[:15]}')\n",
        "sentences = sent_tokenize(text)\n",
        "print(f'Sentences: {sentences}')\n",
        "stop_words = set(stopwords.words('english'))\n",
        "print(f'Stop words: {stop_words}')"
      ],
      "metadata": {
        "colab": {
          "base_uri": "https://localhost:8080/"
        },
        "id": "LRodSy5ZPPmM",
        "outputId": "832ff8e4-3199-4b71-bc3a-86c4ebc94908"
      },
      "execution_count": 6,
      "outputs": [
        {
          "output_type": "stream",
          "name": "stdout",
          "text": [
            "Tokens: ['The', 'Orbiter', 'Discovery', ',', 'OV-103', ',', 'is', 'considered', 'eligible', 'for', 'listing', 'in', 'the', 'National', 'Register']\n",
            "Sentences: ['The Orbiter Discovery, OV-103, is considered eligible for listing in the National Register of Historic Places (NRHP) in the context of the U.S. Space Shuttle Program (1969-2011) under Criterion A in the areas of Space Exploration and Transportation and under Criterion C in the area of Engineering.', 'Because it has achieved significance within the past fifty years, Criteria Consideration G applies.', 'Under Criterion A, Discovery is significant as the oldest of the three extant orbiter vehicles constructed for the Space Shuttle Program (SSP), the longest running American space program to date; she was the third of five orbiters built by NASA.', 'Unlike the Mercury, Gemini, and Apollo programs, the SSP’s emphasis was on cost effectiveness and reusability, and eventually the construction of a space station.', 'Including her maiden voyage (launched August 30, 1984), Discovery flew to space thirty-nine times, more than any of the other four orbiters; she was also the first orbiter to fly twenty missions.', 'She had the honor of being chosen as the Return to Flight vehicle after both the Challenger and Columbia accidents.', 'Discovery was the first shuttle to fly with the redesigned SRBs, a result of the Challenger accident, and the first shuttle to fly with the Phase II and Block I SSME.', 'Discovery also carried the Hubble Space Telescope to orbit and performed two of the five servicing missions to the observatory.', 'She flew the first and last dedicated Department of Defense (DoD) missions, as well as the first unclassified defense-related mission.', 'In addition, Discovery was vital to the construction of the International Space Station (ISS); she flew thirteen of the thirty-seven total missions flown to the station by a U.S. Space Shuttle.', 'She was the first orbiter to dock to the ISS, and the first to perform an exchange of a resident crew.', 'Under Criterion C, Discovery is significant as a feat of engineering.', 'According to Wayne Hale, a flight director from Johnson Space Center, the Space Shuttle orbiter represents a “huge technological leap from expendable rockets and capsules to a reusable, winged, hypersonic, cargo-carrying spacecraft.” Although her base structure followed a conventional aircraft design, she used advanced materials that both minimized her weight for cargo-carrying purposes and featured low thermal expansion ratios, which provided a stable base for her Thermal Protection System (TPS) materials.', 'The Space Shuttle orbiter also featured the first reusable TPS; all previous spaceflight vehicles had a single-use, ablative heat shield.', 'Other notable engineering achievements of the orbiter included the first reusable orbital propulsion system, and the first two-fault-tolerant Integrated Avionics System.', 'As Hale stated, the Space Shuttle remains “the largest, fastest, winged hypersonic aircraft in history,” having regularly flown at twenty-five times the speed of sound.']\n",
            "Stop words: {'couldn', 'wasn', 'yourselves', 'do', 'with', 'further', 'where', 'mightn', \"don't\", \"wasn't\", 'above', 'such', 'll', 'needn', 'from', 'some', 're', \"shan't\", \"shouldn't\", 'in', 'before', 'your', 'my', 'hers', \"haven't\", 'again', 'this', 'between', 'wouldn', 'should', \"doesn't\", 'shan', \"you'll\", 'being', 'those', 'to', 'if', 'himself', \"aren't\", 'of', 'me', 'below', 'about', 'when', 'yourself', 'haven', 'doing', \"should've\", \"won't\", 'as', 'you', 'i', 'did', 'both', 'they', 'these', 'own', 'itself', 'her', 'weren', 'out', 'off', 's', 'were', 'not', 'at', \"wouldn't\", 'have', 'an', 'very', 'which', 'mustn', 've', 'over', 'y', 'after', 'herself', 'themselves', 'while', 'hadn', 'because', 'she', 'too', 'into', 't', \"mightn't\", \"needn't\", 'its', 'theirs', 'it', 'm', 'shouldn', 'can', 'him', 'ours', 'until', 'each', 'we', \"that'll\", \"isn't\", 'who', 'what', \"she's\", 'he', 'has', 'by', 'why', 'doesn', 'was', 'them', 'had', 'most', 'having', 'under', \"weren't\", 'does', 'his', 'hasn', 'be', 'or', \"didn't\", 'myself', 'other', \"hadn't\", 'will', 'ma', 'no', 'during', 'is', 'only', 'ain', 'any', 'once', 'yours', 'ourselves', 'so', 'than', 'don', 'there', 'down', 'few', 'just', 'through', 'are', \"you're\", 'for', 'up', \"couldn't\", 'all', 'on', 'that', 'won', 'here', \"you'd\", 'nor', \"hasn't\", 'd', 'but', 'been', 'isn', 'the', \"it's\", 'now', 'didn', 'our', \"you've\", 'against', 'a', 'whom', 'o', 'their', 'and', 'same', 'am', 'more', 'how', 'then', 'aren', \"mustn't\"}\n"
          ]
        }
      ]
    },
    {
      "cell_type": "markdown",
      "source": [
        "І також не забуваємо про знаки пунктуації"
      ],
      "metadata": {
        "id": "iu6Zo0YhQxIC"
      }
    },
    {
      "cell_type": "code",
      "source": [
        "punctuation = punctuation + '\\n'\n",
        "print(punctuation)"
      ],
      "metadata": {
        "colab": {
          "base_uri": "https://localhost:8080/"
        },
        "id": "9O2m_mQRQyOt",
        "outputId": "2f7a7fa1-17c1-498d-f6e7-83de28e353a1"
      },
      "execution_count": 7,
      "outputs": [
        {
          "output_type": "stream",
          "name": "stdout",
          "text": [
            "!\"#$%&'()*+,-./:;<=>?@[\\]^_`{|}~\n",
            "\n"
          ]
        }
      ]
    },
    {
      "cell_type": "markdown",
      "source": [
        "Також можна порахувати частоту появи тих чи інших слів у тексті(але варто пам'ятати, що це треба робити, вже виключивши усі знаки пунктуації)"
      ],
      "metadata": {
        "id": "rg6Bod9YQknp"
      }
    },
    {
      "cell_type": "code",
      "source": [
        "word_frequencies = {}\n",
        "for word in doc:\n",
        "  if word.text.lower() not in stop_words:\n",
        "    if word.text.lower() not in punctuation:\n",
        "      if word.text not in word_frequencies:\n",
        "        word_frequencies[word.text] = 1\n",
        "      else:\n",
        "        word_frequencies[word.text] += 1\n",
        "print(word_frequencies)"
      ],
      "metadata": {
        "colab": {
          "base_uri": "https://localhost:8080/"
        },
        "id": "SsiCtde8QgZh",
        "outputId": "39fbf450-772e-4e7e-ffd2-b926c52e92ea"
      },
      "execution_count": 11,
      "outputs": [
        {
          "output_type": "stream",
          "name": "stdout",
          "text": [
            "{'Orbiter': 1, 'Discovery': 7, 'OV-103': 1, 'considered': 1, 'eligible': 1, 'listing': 1, 'National': 1, 'Register': 1, 'Historic': 1, 'Places': 1, 'NRHP': 1, 'context': 1, 'U.S.': 2, 'Space': 10, 'Shuttle': 6, 'Program': 2, '1969': 1, '2011': 1, 'Criterion': 4, 'areas': 1, 'Exploration': 1, 'Transportation': 1, 'C': 2, 'area': 1, 'Engineering': 1, 'achieved': 1, 'significance': 1, 'within': 1, 'past': 1, 'fifty': 1, 'years': 1, 'Criteria': 1, 'Consideration': 1, 'G': 1, 'applies': 1, 'significant': 2, 'oldest': 1, 'three': 1, 'extant': 1, 'orbiter': 6, 'vehicles': 2, 'constructed': 1, 'SSP': 2, 'longest': 1, 'running': 1, 'American': 1, 'space': 3, 'program': 1, 'date': 1, 'third': 1, 'five': 3, 'orbiters': 2, 'built': 1, 'NASA': 1, 'Unlike': 1, 'Mercury': 1, 'Gemini': 1, 'Apollo': 1, 'programs': 1, '’s': 1, 'emphasis': 1, 'cost': 1, 'effectiveness': 1, 'reusability': 1, 'eventually': 1, 'construction': 2, 'station': 2, 'Including': 1, 'maiden': 1, 'voyage': 1, 'launched': 1, 'August': 1, '30': 1, '1984': 1, 'flew': 3, 'thirty': 2, 'nine': 1, 'times': 2, 'four': 1, 'also': 3, 'first': 10, 'fly': 3, 'twenty': 2, 'missions': 4, 'honor': 1, 'chosen': 1, 'Return': 1, 'Flight': 1, 'vehicle': 1, 'Challenger': 2, 'Columbia': 1, 'accidents': 1, 'shuttle': 2, 'redesigned': 1, 'SRBs': 1, 'result': 1, 'accident': 1, 'Phase': 1, 'II': 1, 'Block': 1, 'SSME': 1, 'carried': 1, 'Hubble': 1, 'Telescope': 1, 'orbit': 1, 'performed': 1, 'two': 2, 'servicing': 1, 'observatory': 1, 'last': 1, 'dedicated': 1, 'Department': 1, 'Defense': 1, 'DoD': 1, 'well': 1, 'unclassified': 1, 'defense': 1, 'related': 1, 'mission': 1, 'addition': 1, 'vital': 1, 'International': 1, 'Station': 1, 'ISS': 2, 'thirteen': 1, 'seven': 1, 'total': 1, 'flown': 2, 'dock': 1, 'perform': 1, 'exchange': 1, 'resident': 1, 'crew': 1, 'feat': 1, 'engineering': 2, 'According': 1, 'Wayne': 1, 'Hale': 2, 'flight': 1, 'director': 1, 'Johnson': 1, 'Center': 1, 'represents': 1, '“': 2, 'huge': 1, 'technological': 1, 'leap': 1, 'expendable': 1, 'rockets': 1, 'capsules': 1, 'reusable': 3, 'winged': 2, 'hypersonic': 2, 'cargo': 2, 'carrying': 2, 'spacecraft': 1, '”': 2, 'Although': 1, 'base': 2, 'structure': 1, 'followed': 1, 'conventional': 1, 'aircraft': 2, 'design': 1, 'used': 1, 'advanced': 1, 'materials': 2, 'minimized': 1, 'weight': 1, 'purposes': 1, 'featured': 2, 'low': 1, 'thermal': 1, 'expansion': 1, 'ratios': 1, 'provided': 1, 'stable': 1, 'Thermal': 1, 'Protection': 1, 'System': 2, 'TPS': 2, 'previous': 1, 'spaceflight': 1, 'single': 1, 'use': 1, 'ablative': 1, 'heat': 1, 'shield': 1, 'notable': 1, 'achievements': 1, 'included': 1, 'orbital': 1, 'propulsion': 1, 'system': 1, 'fault': 1, 'tolerant': 1, 'Integrated': 1, 'Avionics': 1, 'stated': 1, 'remains': 1, 'largest': 1, 'fastest': 1, 'history': 1, 'regularly': 1, 'speed': 1, 'sound': 1}\n"
          ]
        }
      ]
    },
    {
      "cell_type": "code",
      "source": [
        "max_frequnces = max(word_frequencies.values())\n",
        "max_count_words = {k : v for k, v in word_frequencies.items() if v == max_frequnces}\n",
        "print('The most frequest word:')\n",
        "print(max_count_words)\n",
        "\n",
        "\n",
        "for word in word_frequencies:\n",
        "  word_frequencies[word] /= max_frequnces\n",
        "print(word_frequencies)"
      ],
      "metadata": {
        "colab": {
          "base_uri": "https://localhost:8080/"
        },
        "id": "GXBwlUfjTNdE",
        "outputId": "7330d686-71d7-4cb4-ddb0-84195ce05e4c"
      },
      "execution_count": 27,
      "outputs": [
        {
          "output_type": "stream",
          "name": "stdout",
          "text": [
            "The most frequest word:\n",
            "{'Space': 1.0, 'first': 1.0}\n",
            "{'Orbiter': 0.1, 'Discovery': 0.7, 'OV-103': 0.1, 'considered': 0.1, 'eligible': 0.1, 'listing': 0.1, 'National': 0.1, 'Register': 0.1, 'Historic': 0.1, 'Places': 0.1, 'NRHP': 0.1, 'context': 0.1, 'U.S.': 0.2, 'Space': 1.0, 'Shuttle': 0.6, 'Program': 0.2, '1969': 0.1, '2011': 0.1, 'Criterion': 0.4, 'areas': 0.1, 'Exploration': 0.1, 'Transportation': 0.1, 'C': 0.2, 'area': 0.1, 'Engineering': 0.1, 'achieved': 0.1, 'significance': 0.1, 'within': 0.1, 'past': 0.1, 'fifty': 0.1, 'years': 0.1, 'Criteria': 0.1, 'Consideration': 0.1, 'G': 0.1, 'applies': 0.1, 'significant': 0.2, 'oldest': 0.1, 'three': 0.1, 'extant': 0.1, 'orbiter': 0.6, 'vehicles': 0.2, 'constructed': 0.1, 'SSP': 0.2, 'longest': 0.1, 'running': 0.1, 'American': 0.1, 'space': 0.3, 'program': 0.1, 'date': 0.1, 'third': 0.1, 'five': 0.3, 'orbiters': 0.2, 'built': 0.1, 'NASA': 0.1, 'Unlike': 0.1, 'Mercury': 0.1, 'Gemini': 0.1, 'Apollo': 0.1, 'programs': 0.1, '’s': 0.1, 'emphasis': 0.1, 'cost': 0.1, 'effectiveness': 0.1, 'reusability': 0.1, 'eventually': 0.1, 'construction': 0.2, 'station': 0.2, 'Including': 0.1, 'maiden': 0.1, 'voyage': 0.1, 'launched': 0.1, 'August': 0.1, '30': 0.1, '1984': 0.1, 'flew': 0.3, 'thirty': 0.2, 'nine': 0.1, 'times': 0.2, 'four': 0.1, 'also': 0.3, 'first': 1.0, 'fly': 0.3, 'twenty': 0.2, 'missions': 0.4, 'honor': 0.1, 'chosen': 0.1, 'Return': 0.1, 'Flight': 0.1, 'vehicle': 0.1, 'Challenger': 0.2, 'Columbia': 0.1, 'accidents': 0.1, 'shuttle': 0.2, 'redesigned': 0.1, 'SRBs': 0.1, 'result': 0.1, 'accident': 0.1, 'Phase': 0.1, 'II': 0.1, 'Block': 0.1, 'SSME': 0.1, 'carried': 0.1, 'Hubble': 0.1, 'Telescope': 0.1, 'orbit': 0.1, 'performed': 0.1, 'two': 0.2, 'servicing': 0.1, 'observatory': 0.1, 'last': 0.1, 'dedicated': 0.1, 'Department': 0.1, 'Defense': 0.1, 'DoD': 0.1, 'well': 0.1, 'unclassified': 0.1, 'defense': 0.1, 'related': 0.1, 'mission': 0.1, 'addition': 0.1, 'vital': 0.1, 'International': 0.1, 'Station': 0.1, 'ISS': 0.2, 'thirteen': 0.1, 'seven': 0.1, 'total': 0.1, 'flown': 0.2, 'dock': 0.1, 'perform': 0.1, 'exchange': 0.1, 'resident': 0.1, 'crew': 0.1, 'feat': 0.1, 'engineering': 0.2, 'According': 0.1, 'Wayne': 0.1, 'Hale': 0.2, 'flight': 0.1, 'director': 0.1, 'Johnson': 0.1, 'Center': 0.1, 'represents': 0.1, '“': 0.2, 'huge': 0.1, 'technological': 0.1, 'leap': 0.1, 'expendable': 0.1, 'rockets': 0.1, 'capsules': 0.1, 'reusable': 0.3, 'winged': 0.2, 'hypersonic': 0.2, 'cargo': 0.2, 'carrying': 0.2, 'spacecraft': 0.1, '”': 0.2, 'Although': 0.1, 'base': 0.2, 'structure': 0.1, 'followed': 0.1, 'conventional': 0.1, 'aircraft': 0.2, 'design': 0.1, 'used': 0.1, 'advanced': 0.1, 'materials': 0.2, 'minimized': 0.1, 'weight': 0.1, 'purposes': 0.1, 'featured': 0.2, 'low': 0.1, 'thermal': 0.1, 'expansion': 0.1, 'ratios': 0.1, 'provided': 0.1, 'stable': 0.1, 'Thermal': 0.1, 'Protection': 0.1, 'System': 0.2, 'TPS': 0.2, 'previous': 0.1, 'spaceflight': 0.1, 'single': 0.1, 'use': 0.1, 'ablative': 0.1, 'heat': 0.1, 'shield': 0.1, 'notable': 0.1, 'achievements': 0.1, 'included': 0.1, 'orbital': 0.1, 'propulsion': 0.1, 'system': 0.1, 'fault': 0.1, 'tolerant': 0.1, 'Integrated': 0.1, 'Avionics': 0.1, 'stated': 0.1, 'remains': 0.1, 'largest': 0.1, 'fastest': 0.1, 'history': 0.1, 'regularly': 0.1, 'speed': 0.1, 'sound': 0.1}\n"
          ]
        }
      ]
    },
    {
      "cell_type": "markdown",
      "source": [],
      "metadata": {
        "id": "UaTU7Z7q-o77"
      }
    },
    {
      "cell_type": "code",
      "source": [
        "sentence_tokens = list(doc.sents)\n",
        "sentence_scores = {}\n",
        "for sent in sentence_tokens:\n",
        "    for word in sent:\n",
        "        if word.text.lower() in word_frequencies:\n",
        "            if sent not in sentence_scores:\n",
        "                sentence_scores[sent] = word_frequencies[word.text.lower()]\n",
        "            else:\n",
        "                sentence_scores[sent] += word_frequencies[word.text.lower()]\n",
        "sentence_scores"
      ],
      "metadata": {
        "colab": {
          "base_uri": "https://localhost:8080/"
        },
        "id": "xIEbFgzpY928",
        "outputId": "fe2987f7-1c22-4644-f126-c7752a0e1459"
      },
      "execution_count": 10,
      "outputs": [
        {
          "output_type": "execute_result",
          "data": {
            "text/plain": [
              "{The Orbiter Discovery, OV-103, is considered eligible for listing in the National Register of Historic Places (NRHP) in the context of the U.S. Space Shuttle Program (1969-2011) under Criterion A in the areas of Space Exploration and Transportation and under Criterion C in the area of Engineering.: 2.5000000000000004,\n",
              " Because it has achieved significance within the past fifty years, Criteria Consideration G applies.: 0.7,\n",
              " Under Criterion A, Discovery is significant as the oldest of the three extant orbiter vehicles constructed for the Space Shuttle Program (SSP), the longest running American space program to date; she was the third of five orbiters built by NASA.: 3.4000000000000004,\n",
              " Unlike the Mercury, Gemini, and Apollo programs, the SSP’s emphasis was on cost effectiveness and reusability, and eventually the construction of a space station.: 1.4,\n",
              " Including her maiden voyage (launched August 30, 1984), Discovery flew to space thirty-nine times, more than any of the other four orbiters; she was also the first orbiter to fly twenty missions.: 4.700000000000001,\n",
              " She had the honor of being chosen as the Return to Flight vehicle after both the Challenger and Columbia accidents.: 0.5,\n",
              " Discovery was the first shuttle to fly with the redesigned SRBs, a result of the Challenger accident, and the first shuttle to fly with the Phase II and Block I SSME.: 3.3000000000000003,\n",
              " Discovery also carried the Hubble Space Telescope to orbit and performed two of the five servicing missions to the observatory.: 2.0,\n",
              " She flew the first and last dedicated Department of Defense (DoD) missions, as well as the first unclassified defense-related mission.: 3.500000000000001,\n",
              " In addition, Discovery was vital to the construction of the International Space Station (ISS); she flew thirteen of the thirty-seven total missions flown to the station by a U.S. Space Shuttle.: 3.0000000000000004,\n",
              " She was the first orbiter to dock to the ISS, and the first to perform an exchange of a resident crew.: 3.1000000000000005,\n",
              " Under Criterion C, Discovery is significant as a feat of engineering.: 0.5,\n",
              " According to Wayne Hale, a flight director from Johnson Space Center, the Space Shuttle orbiter represents a “huge technological leap from expendable rockets and capsules to a reusable, winged, hypersonic, cargo-carrying spacecraft.”: 3.9000000000000012,\n",
              " Although her base structure followed a conventional aircraft design, she used advanced materials that both minimized her weight for cargo-carrying purposes and featured low thermal expansion ratios, which provided a stable base for her Thermal Protection System (TPS) materials.: 3.300000000000001,\n",
              " The Space Shuttle orbiter also featured the first reusable TPS; all previous spaceflight vehicles had a single-use, ablative heat shield.: 3.8000000000000007,\n",
              " Other notable engineering achievements of the orbiter included the first reusable orbital propulsion system, and the first two-fault-tolerant Integrated Avionics System.: 4.199999999999999,\n",
              " As Hale stated, the Space Shuttle remains “the largest, fastest, winged hypersonic aircraft in history,” having regularly flown at twenty-five times the speed of sound.: 3.200000000000001}"
            ]
          },
          "metadata": {},
          "execution_count": 10
        }
      ]
    },
    {
      "cell_type": "markdown",
      "source": [
        "**Бібліотека heapq**\n",
        "\n",
        "Бібліотека heapq є частиною стандартної бібліотеки Python і надає функціонал для роботи зі структурами даних під назвою heap. Один з імпортованих об’єктів у цій бібліотеці - nlargest - є функцією, яка дозволяє знаходити найбільші елементи з ітерабельного об’єкту."
      ],
      "metadata": {
        "id": "x43Z_T6D_pTJ"
      }
    },
    {
      "cell_type": "code",
      "source": [
        "from heapq import nlargest"
      ],
      "metadata": {
        "id": "tVo9Fo4H_s_c"
      },
      "execution_count": 28,
      "outputs": []
    },
    {
      "cell_type": "markdown",
      "source": [
        "Функція `nlargest(n, iterable, key=None)`` приймає три аргументи:\n",
        "\n",
        "n - це кількість найбільших елементів, які ви хочете отримати\n",
        "iterable - це ітерабельний об’єкт, з якого ви хочете вибрати найбільші елементи\n",
        "key (необов’язковий) - це функція, яка визначає, за яким ключем відбувається порівняння елементів (наприклад, key=str.lower)\n",
        "Функція nlargest повертає список з n найбільших елементів з iterable. Ці елементи будуть впорядковані у порядку спадання. Якщо n більше довжини iterable, то функція поверне весь iterable у відсортованому порядку.\n",
        "\n",
        "Отже, імпортований from heapq import nlargest дозволяє використовувати функцію `nlargest`` для знаходження найбільших елементів з довільного ітерабельного об’єкту."
      ],
      "metadata": {
        "id": "GuxVvY6p_xHv"
      }
    },
    {
      "cell_type": "code",
      "source": [
        "select_length = int(len(sentence_tokens))\n",
        "summary = nlargest(select_length, sentence_scores, key = sentence_scores.get)\n",
        "\n",
        "for i in summary:\n",
        "  print(i)"
      ],
      "metadata": {
        "colab": {
          "base_uri": "https://localhost:8080/"
        },
        "id": "8rgjBdG3AAQZ",
        "outputId": "68101da2-2cc4-47d6-f73f-8afbe71993a5"
      },
      "execution_count": 38,
      "outputs": [
        {
          "output_type": "stream",
          "name": "stdout",
          "text": [
            "Including her maiden voyage (launched August 30, 1984), Discovery flew to space thirty-nine times, more than any of the other four orbiters; she was also the first orbiter to fly twenty missions.\n",
            "Other notable engineering achievements of the orbiter included the first reusable orbital propulsion system, and the first two-fault-tolerant Integrated Avionics System.\n",
            "According to Wayne Hale, a flight director from Johnson Space Center, the Space Shuttle orbiter represents a “huge technological leap from expendable rockets and capsules to a reusable, winged, hypersonic, cargo-carrying spacecraft.”\n",
            "The Space Shuttle orbiter also featured the first reusable TPS; all previous spaceflight vehicles had a single-use, ablative heat shield.\n",
            "She flew the first and last dedicated Department of Defense (DoD) missions, as well as the first unclassified defense-related mission.\n",
            "Under Criterion A, Discovery is significant as the oldest of the three extant orbiter vehicles constructed for the Space Shuttle Program (SSP), the longest running American space program to date; she was the third of five orbiters built by NASA.\n",
            "Although her base structure followed a conventional aircraft design, she used advanced materials that both minimized her weight for cargo-carrying purposes and featured low thermal expansion ratios, which provided a stable base for her Thermal Protection System (TPS) materials.\n",
            "Discovery was the first shuttle to fly with the redesigned SRBs, a result of the Challenger accident, and the first shuttle to fly with the Phase II and Block I SSME.\n",
            "As Hale stated, the Space Shuttle remains “the largest, fastest, winged hypersonic aircraft in history,” having regularly flown at twenty-five times the speed of sound.\n",
            "She was the first orbiter to dock to the ISS, and the first to perform an exchange of a resident crew.\n",
            "In addition, Discovery was vital to the construction of the International Space Station (ISS); she flew thirteen of the thirty-seven total missions flown to the station by a U.S. Space Shuttle.\n",
            "The Orbiter Discovery, OV-103, is considered eligible for listing in the National Register of Historic Places (NRHP) in the context of the U.S. Space Shuttle Program (1969-2011) under Criterion A in the areas of Space Exploration and Transportation and under Criterion C in the area of Engineering.\n",
            "Discovery also carried the Hubble Space Telescope to orbit and performed two of the five servicing missions to the observatory.\n",
            "Unlike the Mercury, Gemini, and Apollo programs, the SSP’s emphasis was on cost effectiveness and reusability, and eventually the construction of a space station.\n",
            "Because it has achieved significance within the past fifty years, Criteria Consideration G applies.\n",
            "She had the honor of being chosen as the Return to Flight vehicle after both the Challenger and Columbia accidents.\n",
            "Under Criterion C, Discovery is significant as a feat of engineering.\n"
          ]
        }
      ]
    }
  ]
}