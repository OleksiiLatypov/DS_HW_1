{
  "nbformat": 4,
  "nbformat_minor": 0,
  "metadata": {
    "colab": {
      "provenance": []
    },
    "kernelspec": {
      "name": "python3",
      "display_name": "Python 3"
    },
    "language_info": {
      "name": "python"
    }
  },
  "cells": [
    {
      "cell_type": "code",
      "source": [
        "!pip install numpy\n",
        "import numpy as np\n",
        "\n",
        "rand_num = np.random.default_rng()"
      ],
      "metadata": {
        "id": "EIPXa4bjfCR0",
        "colab": {
          "base_uri": "https://localhost:8080/"
        },
        "outputId": "b7d43db4-b6bc-4c21-e8ce-cd96888bdcb5"
      },
      "execution_count": 2,
      "outputs": [
        {
          "output_type": "stream",
          "name": "stdout",
          "text": [
            "Requirement already satisfied: numpy in /usr/local/lib/python3.10/dist-packages (1.22.4)\n"
          ]
        }
      ]
    },
    {
      "cell_type": "markdown",
      "source": [
        "1.Створіть одновимірний масив (вектор) з першими 10-ма натуральними числами та виведіть його значення."
      ],
      "metadata": {
        "id": "-zE9SP1GfKa1"
      }
    },
    {
      "cell_type": "code",
      "source": [
        "a = np.arange(1,10)\n",
        "print(a)"
      ],
      "metadata": {
        "colab": {
          "base_uri": "https://localhost:8080/"
        },
        "id": "lu57FoCbfT82",
        "outputId": "c4ab796f-82dc-4d0c-c805-f462a91d3785"
      },
      "execution_count": null,
      "outputs": [
        {
          "output_type": "stream",
          "name": "stdout",
          "text": [
            "[1 2 3 4 5 6 7 8 9]\n"
          ]
        }
      ]
    },
    {
      "cell_type": "markdown",
      "source": [
        "2. Створіть двовимірний масив (матрицю) розміром 3x3, заповніть його нулями та виведіть його значення."
      ],
      "metadata": {
        "id": "3HWHqy9cfrxV"
      }
    },
    {
      "cell_type": "code",
      "source": [
        "a = np.zeros((3,3), dtype=int)\n",
        "print(a)"
      ],
      "metadata": {
        "colab": {
          "base_uri": "https://localhost:8080/"
        },
        "id": "wI8etewWfu7j",
        "outputId": "c344cf14-6cf4-4edf-989b-a9f678cfb359"
      },
      "execution_count": null,
      "outputs": [
        {
          "output_type": "stream",
          "name": "stdout",
          "text": [
            "[[0 0 0]\n",
            " [0 0 0]\n",
            " [0 0 0]]\n"
          ]
        }
      ]
    },
    {
      "cell_type": "markdown",
      "source": [
        "3.Створіть масив розміром 5x5, заповніть його випадковими цілими числами в діапазоні від 1 до 10 та виведіть його значення."
      ],
      "metadata": {
        "id": "lz_5nOI6gTfS"
      }
    },
    {
      "cell_type": "code",
      "source": [
        "a = rand_num.integers(1, 10, size=(5,5))\n",
        "print(a)"
      ],
      "metadata": {
        "colab": {
          "base_uri": "https://localhost:8080/"
        },
        "id": "sY1fWRHvgXBl",
        "outputId": "5f9a9711-42bc-4516-92e0-ba2bfdeace75"
      },
      "execution_count": null,
      "outputs": [
        {
          "output_type": "stream",
          "name": "stdout",
          "text": [
            "[[4 8 7 8 9]\n",
            " [1 1 9 1 5]\n",
            " [3 7 6 7 5]\n",
            " [6 2 8 7 1]\n",
            " [8 9 7 9 4]]\n"
          ]
        }
      ]
    },
    {
      "cell_type": "markdown",
      "source": [
        "4.Створіть масив розміром 4x4, заповніть його випадковими дійсними числами в діапазоні від 0 до 1 та виведіть його значення."
      ],
      "metadata": {
        "id": "ySq259VRh7k9"
      }
    },
    {
      "cell_type": "code",
      "source": [
        "a = rand_num.random((4,4))\n",
        "print(a)"
      ],
      "metadata": {
        "colab": {
          "base_uri": "https://localhost:8080/"
        },
        "id": "IjoKbd5MiAZE",
        "outputId": "127b8294-ca17-46a8-f888-28af5f385fea"
      },
      "execution_count": null,
      "outputs": [
        {
          "output_type": "stream",
          "name": "stdout",
          "text": [
            "[[0.30386323 0.86044125 0.21827543 0.08348773]\n",
            " [0.45949921 0.39594185 0.16069986 0.81198755]\n",
            " [0.02711024 0.105323   0.34641721 0.24584108]\n",
            " [0.62953423 0.81130836 0.28343728 0.72762579]]\n"
          ]
        }
      ]
    },
    {
      "cell_type": "markdown",
      "source": [
        "5.Створіть два одновимірних масиви розміром 5, заповніть їх випадковими цілими числами в діапазоні від 1 до 10 та виконайте на них поелементні операції додавання, віднімання та множення."
      ],
      "metadata": {
        "id": "kmRfiTh7i_H7"
      }
    },
    {
      "cell_type": "code",
      "source": [
        "a = rand_num.integers(1,10, size=(5,))\n",
        "b = rand_num.integers(1,10, size=(5,))\n",
        "add_ =a + b\n",
        "sub_ = a - b\n",
        "multiply_ = a * b\n",
        "print(f'Add: {add_}')\n",
        "print(f'Sub: {sub_}')\n",
        "print(f'Multiply: {multiply_}')"
      ],
      "metadata": {
        "colab": {
          "base_uri": "https://localhost:8080/"
        },
        "id": "e5EOmVJijGsY",
        "outputId": "4d885df5-ad2f-499c-e061-cb78fab28b35"
      },
      "execution_count": null,
      "outputs": [
        {
          "output_type": "stream",
          "name": "stdout",
          "text": [
            "Add: [14  7 13  9 17]\n",
            "Sub: [ 0 -5 -1 -1 -1]\n",
            "Multiply: [49  6 42 20 72]\n"
          ]
        }
      ]
    },
    {
      "cell_type": "markdown",
      "source": [
        "6.Створіть два вектори розміром 7, заповніть довільними числами та знайдіть їх скалярний добуток."
      ],
      "metadata": {
        "id": "bgvKJQ3Zkcu7"
      }
    },
    {
      "cell_type": "code",
      "source": [
        "a = np.arange(1,14,2)\n",
        "b = np.arange(0,7)\n",
        "print(f'Scalar of {a} and {b}: {np.dot(a, b)}')\n"
      ],
      "metadata": {
        "colab": {
          "base_uri": "https://localhost:8080/"
        },
        "id": "DykyjFw1kfBC",
        "outputId": "92642670-c571-49d5-f82e-82f868e37221"
      },
      "execution_count": null,
      "outputs": [
        {
          "output_type": "stream",
          "name": "stdout",
          "text": [
            "Scalar of [ 1  3  5  7  9 11 13] and [0 1 2 3 4 5 6]: 203\n"
          ]
        }
      ]
    },
    {
      "cell_type": "markdown",
      "source": [
        "7.Створіть дві матриці розміром 2x2 та 2x3, заповніть їх випадковими цілими числами в діапазоні від 1 до 10 та перемножте їх між собою."
      ],
      "metadata": {
        "id": "_Rj53qgrm-Vr"
      }
    },
    {
      "cell_type": "code",
      "source": [
        "a = rand_num.integers(1,10, (2,2))\n",
        "b = rand_num.integers(1,10, (2,3))\n",
        "print(a@b)"
      ],
      "metadata": {
        "colab": {
          "base_uri": "https://localhost:8080/"
        },
        "id": "9tK1dzD5nF0y",
        "outputId": "4bef137e-d404-44dd-e793-60959dffbbd5"
      },
      "execution_count": null,
      "outputs": [
        {
          "output_type": "stream",
          "name": "stdout",
          "text": [
            "[[60 48 28]\n",
            " [30 22 32]]\n"
          ]
        }
      ]
    },
    {
      "cell_type": "markdown",
      "source": [
        "8.Створіть матрицю розміром 3x3, заповніть її випадковими цілими числами в діапазоні від 1 до 10 та знайдіть її обернену матрицю."
      ],
      "metadata": {
        "id": "jxvZW4Nxn8iY"
      }
    },
    {
      "cell_type": "code",
      "source": [
        "a = rand_num.integers(1,10, (3,3))\n",
        "a_inv = np.linalg.inv(a)\n",
        "print(f'Inverse Matrix of\\n {a}\\n is\\n {a_inv.round(4)}')"
      ],
      "metadata": {
        "colab": {
          "base_uri": "https://localhost:8080/"
        },
        "id": "yzSZHBcaoADa",
        "outputId": "4547d637-4156-4212-f28e-252b65a1e77c"
      },
      "execution_count": null,
      "outputs": [
        {
          "output_type": "stream",
          "name": "stdout",
          "text": [
            "Inverse Matrix of\n",
            " [[6 2 8]\n",
            " [5 7 2]\n",
            " [5 7 8]]\n",
            " is\n",
            " [[ 0.2188  0.2083 -0.2708]\n",
            " [-0.1562  0.0417  0.1458]\n",
            " [ 0.     -0.1667  0.1667]]\n"
          ]
        }
      ]
    },
    {
      "cell_type": "markdown",
      "source": [
        "9.Створіть матрицю розміром 4x4, заповніть її випадковими дійсними числами в діапазоні від 0 до 1 та транспонуйте її."
      ],
      "metadata": {
        "id": "zaOuEislpaj7"
      }
    },
    {
      "cell_type": "code",
      "source": [
        "a = rand_num.random(size=(4,4))\n",
        "print(a.round(4))"
      ],
      "metadata": {
        "colab": {
          "base_uri": "https://localhost:8080/"
        },
        "id": "qtyizqKspdgz",
        "outputId": "6d5ad00e-021d-45b9-a087-c57bcdb46fa0"
      },
      "execution_count": null,
      "outputs": [
        {
          "output_type": "stream",
          "name": "stdout",
          "text": [
            "[[0.6664 0.7035 0.5992 0.4843]\n",
            " [0.0987 0.2759 0.8095 0.5126]\n",
            " [0.9981 0.5467 0.7572 0.1528]\n",
            " [0.7535 0.4556 0.7895 0.0169]]\n"
          ]
        }
      ]
    },
    {
      "cell_type": "markdown",
      "source": [
        "10.Створіть матрицю розміром 3x4 та вектор розміром 4, заповніть їх випадковими цілими числами в діапазоні від 1 до 10 та перемножте матрицю на вектор."
      ],
      "metadata": {
        "id": "ZhXgWlre0KMY"
      }
    },
    {
      "cell_type": "code",
      "source": [
        "a = rand_num.integers(1,10, size=(3,4))\n",
        "b = np.random.randint(1,10, size=(4,))\n",
        "print(a@b)"
      ],
      "metadata": {
        "colab": {
          "base_uri": "https://localhost:8080/"
        },
        "id": "XSKTRqSj0NCn",
        "outputId": "d81a7b25-28aa-4dc5-e78d-ec8c8a67d3c9"
      },
      "execution_count": null,
      "outputs": [
        {
          "output_type": "stream",
          "name": "stdout",
          "text": [
            "[ 65  79 109]\n"
          ]
        }
      ]
    },
    {
      "cell_type": "markdown",
      "source": [
        "11.Створіть матрицю розміром 2x3 та вектор розміром 3, заповніть їх випадковими дійсними числами в діапазоні від 0 до 1 та перемножте матрицю на вектор."
      ],
      "metadata": {
        "id": "gSXnuP-v3XCq"
      }
    },
    {
      "cell_type": "code",
      "source": [
        "a = rand_num.random((2,3))\n",
        "b = rand_num.random((3,))\n",
        "print(np.dot(a, b).round(4))"
      ],
      "metadata": {
        "colab": {
          "base_uri": "https://localhost:8080/"
        },
        "id": "c4Pj73sW3Z6Q",
        "outputId": "7fa96bd7-f1e4-4a36-b9fe-91ee511bda5c"
      },
      "execution_count": null,
      "outputs": [
        {
          "output_type": "stream",
          "name": "stdout",
          "text": [
            "[0.7415 1.2547]\n"
          ]
        }
      ]
    },
    {
      "cell_type": "markdown",
      "source": [
        "12. Створіть дві матриці розміром 2x2, заповніть їх випадковими цілими числами в діапазоні від 1 до 10 та виконайте їхнє поелементне множення."
      ],
      "metadata": {
        "id": "l4cllma_4ZGk"
      }
    },
    {
      "cell_type": "code",
      "source": [
        "a = rand_num.integers(1,10, size=(2,2))\n",
        "b = rand_num.integers(1,10, size=(2,2))\n",
        "print(a, b, a * b, sep='\\n\\n')\n"
      ],
      "metadata": {
        "colab": {
          "base_uri": "https://localhost:8080/"
        },
        "id": "NXl06MvF4co0",
        "outputId": "1c751052-97af-432b-cef7-b134e71f4540"
      },
      "execution_count": null,
      "outputs": [
        {
          "output_type": "stream",
          "name": "stdout",
          "text": [
            "[[6 4]\n",
            " [5 9]]\n",
            "\n",
            "[[8 8]\n",
            " [7 3]]\n",
            "\n",
            "[[48 32]\n",
            " [35 27]]\n"
          ]
        }
      ]
    },
    {
      "cell_type": "markdown",
      "source": [
        "13.Створіть дві матриці розміром 2x2, заповніть їх випадковими цілими числами в діапазоні від 1 до 10 та знайдіть їх добуток."
      ],
      "metadata": {
        "id": "TmQN8BoG6KSo"
      }
    },
    {
      "cell_type": "code",
      "source": [
        "a = rand_num.integers(1,10, (2,2))\n",
        "b = rand_num.integers(1,10, (2,2))\n",
        "print(a, b, np.dot(a, b), sep='\\n\\n')"
      ],
      "metadata": {
        "colab": {
          "base_uri": "https://localhost:8080/"
        },
        "id": "hVVJj4XY6OZU",
        "outputId": "5b91023c-d9bf-4f2a-ddfd-05edb8cdf6a2"
      },
      "execution_count": null,
      "outputs": [
        {
          "output_type": "stream",
          "name": "stdout",
          "text": [
            "[[7 8]\n",
            " [5 3]]\n",
            "\n",
            "[[4 7]\n",
            " [5 6]]\n",
            "\n",
            "[[68 97]\n",
            " [35 53]]\n"
          ]
        }
      ]
    },
    {
      "cell_type": "markdown",
      "source": [
        "14.Створіть матрицю розміром 5x5, заповніть її випадковими цілими числами в діапазоні від 1 до 100 та знайдіть суму елементів матриці."
      ],
      "metadata": {
        "id": "3NPmst4cvUki"
      }
    },
    {
      "cell_type": "code",
      "source": [
        "a = rand_num.integers(1,100, (5,5))\n",
        "b = np.sum(a)\n",
        "print(f'Sum of array:\\n {a}\\n= {b}')"
      ],
      "metadata": {
        "colab": {
          "base_uri": "https://localhost:8080/"
        },
        "id": "67ThLQtXvXeA",
        "outputId": "84562617-1270-43aa-9a25-9a7ec2180ee2"
      },
      "execution_count": null,
      "outputs": [
        {
          "output_type": "stream",
          "name": "stdout",
          "text": [
            "Sum of array:\n",
            " [[13 57 43 95 77]\n",
            " [68 19 30 50 65]\n",
            " [ 7 86 20 49 21]\n",
            " [21 54 59 59 41]\n",
            " [78 51  8 92 54]]\n",
            "= 1217\n"
          ]
        }
      ]
    },
    {
      "cell_type": "markdown",
      "source": [
        "15.Створіть дві матриці розміром 4x4, заповніть їх випадковими цілими числами в діапазоні від 1 до 10 та знайдіть їхню різницю."
      ],
      "metadata": {
        "id": "9whjjGacxju0"
      }
    },
    {
      "cell_type": "code",
      "source": [
        "a = rand_num.integers(1,10, (4,4))\n",
        "b = rand_num.integers(1,10, (4,4))\n",
        "#print(np.subtract(a,b))\n",
        "print(a-b)"
      ],
      "metadata": {
        "colab": {
          "base_uri": "https://localhost:8080/"
        },
        "id": "44iFK9lixmJV",
        "outputId": "cbcb7b48-807a-447d-f5a8-348acc0dca11"
      },
      "execution_count": null,
      "outputs": [
        {
          "output_type": "stream",
          "name": "stdout",
          "text": [
            "[[ 5  2  1 -2]\n",
            " [ 7  0  1  1]\n",
            " [ 1  1  6 -5]\n",
            " [-5  5  4  5]]\n",
            "[[ 5  2  1 -2]\n",
            " [ 7  0  1  1]\n",
            " [ 1  1  6 -5]\n",
            " [-5  5  4  5]]\n"
          ]
        }
      ]
    },
    {
      "cell_type": "markdown",
      "source": [
        "16.Створіть матрицю розміром 3x3, заповніть її випадковими дійсними числами в діапазоні від 0 до 1 та знайдіть вектор-стовпчик, що містить суму елементів кожного рядка матриці."
      ],
      "metadata": {
        "id": "rh5OugOyyNMQ"
      }
    },
    {
      "cell_type": "code",
      "source": [
        "a = rand_num.random(size=(3,3))\n",
        "print(a.round(4), np.sum(a, axis=1).round(4), sep='\\n\\n')"
      ],
      "metadata": {
        "colab": {
          "base_uri": "https://localhost:8080/"
        },
        "id": "v353PgxCyQeW",
        "outputId": "7094e63e-dd0d-45e0-db01-da6f38141615"
      },
      "execution_count": 19,
      "outputs": [
        {
          "output_type": "stream",
          "name": "stdout",
          "text": [
            "[[0.047  0.1674 0.5469]\n",
            " [0.9431 0.8905 0.1415]\n",
            " [0.9768 0.9099 0.1339]]\n",
            "\n",
            "[0.7613 1.9751 2.0206]\n"
          ]
        }
      ]
    },
    {
      "cell_type": "markdown",
      "source": [
        "17.Створіть матрицю розміром 3x4 з довільними цілими числами і створінь матрицю з квадратами цих чисел."
      ],
      "metadata": {
        "id": "zs5k1clfJ9AY"
      }
    },
    {
      "cell_type": "code",
      "source": [
        "a = np.arange(1,13)\n",
        "b = a.reshape(3,4)\n",
        "print(np.square(b))"
      ],
      "metadata": {
        "colab": {
          "base_uri": "https://localhost:8080/"
        },
        "id": "6-w_f4UwJ-hi",
        "outputId": "0af5e0c7-2a28-483b-fa0c-42f618a94b9b"
      },
      "execution_count": 36,
      "outputs": [
        {
          "output_type": "stream",
          "name": "stdout",
          "text": [
            "[[  1   4   9  16]\n",
            " [ 25  36  49  64]\n",
            " [ 81 100 121 144]]\n"
          ]
        }
      ]
    },
    {
      "cell_type": "markdown",
      "source": [
        "18.Створіть вектор розміром 4, заповніть його випадковими цілими числами в діапазоні від 1 до 50 та знайдіть вектор з квадратними коренями цих чисел."
      ],
      "metadata": {
        "id": "eX77POZqVB7B"
      }
    },
    {
      "cell_type": "code",
      "source": [
        "a = rand_num.integers(1,50,4)\n",
        "print(a, np.sqrt(a).round(4), sep='\\n')"
      ],
      "metadata": {
        "colab": {
          "base_uri": "https://localhost:8080/"
        },
        "id": "LslgYwrEWyHr",
        "outputId": "3b16065a-4c98-491a-c74e-0ba2a8ff3827"
      },
      "execution_count": 43,
      "outputs": [
        {
          "output_type": "stream",
          "name": "stdout",
          "text": [
            "[47 37 28 34]\n",
            "[6.8557 6.0828 5.2915 5.831 ]\n"
          ]
        }
      ]
    }
  ]
}