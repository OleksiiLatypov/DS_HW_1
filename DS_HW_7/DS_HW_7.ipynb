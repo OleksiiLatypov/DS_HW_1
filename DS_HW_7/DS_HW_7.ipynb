{
  "nbformat": 4,
  "nbformat_minor": 0,
  "metadata": {
    "colab": {
      "provenance": []
    },
    "kernelspec": {
      "name": "python3",
      "display_name": "Python 3"
    },
    "language_info": {
      "name": "python"
    }
  },
  "cells": [
    {
      "cell_type": "code",
      "execution_count": null,
      "metadata": {
        "id": "MdaLfFY5Vw_3",
        "colab": {
          "base_uri": "https://localhost:8080/"
        },
        "outputId": "fcb50706-0377-40af-ec97-843c6c6505a5"
      },
      "outputs": [
        {
          "output_type": "stream",
          "name": "stdout",
          "text": [
            "Collecting scikit-surprise\n",
            "  Downloading scikit-surprise-1.1.3.tar.gz (771 kB)\n",
            "\u001b[2K     \u001b[90m━━━━━━━━━━━━━━━━━━━━━━━━━━━━━━━━━━━━━━━\u001b[0m \u001b[32m772.0/772.0 kB\u001b[0m \u001b[31m9.5 MB/s\u001b[0m eta \u001b[36m0:00:00\u001b[0m\n",
            "\u001b[?25h  Preparing metadata (setup.py) ... \u001b[?25l\u001b[?25hdone\n",
            "Requirement already satisfied: joblib>=1.0.0 in /usr/local/lib/python3.10/dist-packages (from scikit-surprise) (1.3.2)\n",
            "Requirement already satisfied: numpy>=1.17.3 in /usr/local/lib/python3.10/dist-packages (from scikit-surprise) (1.23.5)\n",
            "Requirement already satisfied: scipy>=1.3.2 in /usr/local/lib/python3.10/dist-packages (from scikit-surprise) (1.10.1)\n",
            "Building wheels for collected packages: scikit-surprise\n",
            "  Building wheel for scikit-surprise (setup.py) ... \u001b[?25l\u001b[?25hdone\n",
            "  Created wheel for scikit-surprise: filename=scikit_surprise-1.1.3-cp310-cp310-linux_x86_64.whl size=2811601 sha256=80515a806ab7168d4d133ba2dce6889f5ce88fd8430226461593f4b3987ac665\n",
            "  Stored in directory: /root/.cache/pip/wheels/a5/ca/a8/4e28def53797fdc4363ca4af740db15a9c2f1595ebc51fb445\n",
            "Successfully built scikit-surprise\n",
            "Installing collected packages: scikit-surprise\n",
            "Successfully installed scikit-surprise-1.1.3\n"
          ]
        }
      ],
      "source": [
        "!pip install scikit-surprise"
      ]
    },
    {
      "cell_type": "code",
      "source": [
        "import pandas as pd\n",
        "import numpy as np\n",
        "from surprise import accuracy, SVD, NMF, SVDpp, Dataset\n",
        "from surprise.model_selection import train_test_split, cross_validate\n"
      ],
      "metadata": {
        "id": "WR907aPIl9fG"
      },
      "execution_count": null,
      "outputs": []
    },
    {
      "cell_type": "code",
      "source": [
        "data = Dataset.load_builtin(name = 'ml-100k', prompt=True)\n",
        "data\n"
      ],
      "metadata": {
        "colab": {
          "base_uri": "https://localhost:8080/"
        },
        "id": "4dUAo5-Umjmf",
        "outputId": "d7f36f67-bc8f-4c98-d69d-0fadb7f58f98"
      },
      "execution_count": null,
      "outputs": [
        {
          "output_type": "stream",
          "name": "stdout",
          "text": [
            "Dataset ml-100k could not be found. Do you want to download it? [Y/n] Y\n",
            "Trying to download dataset from https://files.grouplens.org/datasets/movielens/ml-100k.zip...\n",
            "Done! Dataset ml-100k has been saved to /root/.surprise_data/ml-100k\n"
          ]
        },
        {
          "output_type": "execute_result",
          "data": {
            "text/plain": [
              "<surprise.dataset.DatasetAutoFolds at 0x7ec3cad75db0>"
            ]
          },
          "metadata": {},
          "execution_count": 4
        }
      ]
    },
    {
      "cell_type": "code",
      "source": [
        "algorithms = [SVD(), SVDpp(), NMF()]"
      ],
      "metadata": {
        "id": "3ryVPGknAyTj"
      },
      "execution_count": null,
      "outputs": []
    },
    {
      "cell_type": "markdown",
      "source": [
        "**SVD algorithm**"
      ],
      "metadata": {
        "id": "Ck_87wNWBCOv"
      }
    },
    {
      "cell_type": "code",
      "source": [
        "SVD_result = cross_validate(algorithms[0], data, measures=['RMSE', 'MAE'], cv=5, verbose=True)\n",
        "SVD_result = pd.DataFrame.from_dict(SVD_result).mean(axis=0)"
      ],
      "metadata": {
        "colab": {
          "base_uri": "https://localhost:8080/"
        },
        "id": "sPspi4aVA-cu",
        "outputId": "cdf949c4-8dce-458e-ae53-c856e686b501"
      },
      "execution_count": null,
      "outputs": [
        {
          "output_type": "stream",
          "name": "stdout",
          "text": [
            "Evaluating RMSE, MAE of algorithm SVD on 5 split(s).\n",
            "\n",
            "                  Fold 1  Fold 2  Fold 3  Fold 4  Fold 5  Mean    Std     \n",
            "RMSE (testset)    0.9373  0.9337  0.9443  0.9251  0.9404  0.9362  0.0066  \n",
            "MAE (testset)     0.7391  0.7347  0.7411  0.7300  0.7418  0.7373  0.0044  \n",
            "Fit time          1.32    1.32    1.29    1.31    1.29    1.30    0.01    \n",
            "Test time         0.12    0.17    0.12    0.20    0.17    0.16    0.03    \n"
          ]
        }
      ]
    },
    {
      "cell_type": "markdown",
      "source": [
        "**SVDpp algorithm**"
      ],
      "metadata": {
        "id": "RCXNOutpJGbJ"
      }
    },
    {
      "cell_type": "code",
      "source": [
        "SVDpp_result = cross_validate(algorithms[1], data, measures=['RMSE', 'MAE'], cv=5, verbose=True)\n",
        "SVDpp_result = pd.DataFrame.from_dict(SVDpp_result).mean(axis=0)\n"
      ],
      "metadata": {
        "colab": {
          "base_uri": "https://localhost:8080/"
        },
        "id": "9purThTYJLWA",
        "outputId": "f0153c1a-7072-40cd-bb86-86aa3834ed6a"
      },
      "execution_count": null,
      "outputs": [
        {
          "output_type": "stream",
          "name": "stdout",
          "text": [
            "Evaluating RMSE, MAE of algorithm SVDpp on 5 split(s).\n",
            "\n",
            "                  Fold 1  Fold 2  Fold 3  Fold 4  Fold 5  Mean    Std     \n",
            "RMSE (testset)    0.9273  0.9229  0.9126  0.9249  0.9201  0.9216  0.0051  \n",
            "MAE (testset)     0.7282  0.7224  0.7149  0.7250  0.7192  0.7219  0.0046  \n",
            "Fit time          26.08   26.13   27.11   26.34   26.13   26.36   0.39    \n",
            "Test time         5.30    4.62    5.33    4.43    5.33    5.00    0.39    \n"
          ]
        }
      ]
    },
    {
      "cell_type": "markdown",
      "source": [
        "**NMF algorithm**"
      ],
      "metadata": {
        "id": "4drgqHI-Kcka"
      }
    },
    {
      "cell_type": "code",
      "source": [
        "NMF_result = cross_validate(algorithms[2], data, measures=['RMSE', 'MAE'], cv=5, verbose=True)\n",
        "NMF_result = pd.DataFrame.from_dict(NMF_result).mean(axis=0)"
      ],
      "metadata": {
        "colab": {
          "base_uri": "https://localhost:8080/"
        },
        "id": "_7Ws1AZQKjig",
        "outputId": "9792b237-e893-4beb-b34e-916cd4f2afa4"
      },
      "execution_count": null,
      "outputs": [
        {
          "output_type": "stream",
          "name": "stdout",
          "text": [
            "Evaluating RMSE, MAE of algorithm NMF on 5 split(s).\n",
            "\n",
            "                  Fold 1  Fold 2  Fold 3  Fold 4  Fold 5  Mean    Std     \n",
            "RMSE (testset)    0.9510  0.9697  0.9582  0.9615  0.9667  0.9614  0.0066  \n",
            "MAE (testset)     0.7454  0.7627  0.7566  0.7551  0.7603  0.7560  0.0060  \n",
            "Fit time          2.03    2.39    2.36    2.05    2.02    2.17    0.17    \n",
            "Test time         0.10    0.19    0.10    0.11    0.11    0.12    0.04    \n"
          ]
        }
      ]
    },
    {
      "cell_type": "code",
      "source": [
        "algorithms_result = pd.DataFrame(columns=['SVD', 'SVDpp', 'NMF'])\n",
        "algorithms_result['SVD'] = SVD_result\n",
        "algorithms_result['SVDpp'] = SVDpp_result\n",
        "algorithms_result['NMF'] = NMF_result\n",
        "algorithms_result"
      ],
      "metadata": {
        "colab": {
          "base_uri": "https://localhost:8080/",
          "height": 175
        },
        "id": "rW_U2O_DNEeY",
        "outputId": "64e2bfe5-a079-4541-82e5-2a522fb421e8"
      },
      "execution_count": null,
      "outputs": [
        {
          "output_type": "execute_result",
          "data": {
            "text/plain": [
              "                SVD      SVDpp       NMF\n",
              "test_rmse  0.936166   0.921553  0.961395\n",
              "test_mae   0.737344   0.721933  0.756013\n",
              "fit_time   1.304691  26.356647  2.171370\n",
              "test_time  0.155618   5.004678  0.122300"
            ],
            "text/html": [
              "\n",
              "\n",
              "  <div id=\"df-5ea72c18-57d9-4462-a0fd-d6adb247fa62\">\n",
              "    <div class=\"colab-df-container\">\n",
              "      <div>\n",
              "<style scoped>\n",
              "    .dataframe tbody tr th:only-of-type {\n",
              "        vertical-align: middle;\n",
              "    }\n",
              "\n",
              "    .dataframe tbody tr th {\n",
              "        vertical-align: top;\n",
              "    }\n",
              "\n",
              "    .dataframe thead th {\n",
              "        text-align: right;\n",
              "    }\n",
              "</style>\n",
              "<table border=\"1\" class=\"dataframe\">\n",
              "  <thead>\n",
              "    <tr style=\"text-align: right;\">\n",
              "      <th></th>\n",
              "      <th>SVD</th>\n",
              "      <th>SVDpp</th>\n",
              "      <th>NMF</th>\n",
              "    </tr>\n",
              "  </thead>\n",
              "  <tbody>\n",
              "    <tr>\n",
              "      <th>test_rmse</th>\n",
              "      <td>0.936166</td>\n",
              "      <td>0.921553</td>\n",
              "      <td>0.961395</td>\n",
              "    </tr>\n",
              "    <tr>\n",
              "      <th>test_mae</th>\n",
              "      <td>0.737344</td>\n",
              "      <td>0.721933</td>\n",
              "      <td>0.756013</td>\n",
              "    </tr>\n",
              "    <tr>\n",
              "      <th>fit_time</th>\n",
              "      <td>1.304691</td>\n",
              "      <td>26.356647</td>\n",
              "      <td>2.171370</td>\n",
              "    </tr>\n",
              "    <tr>\n",
              "      <th>test_time</th>\n",
              "      <td>0.155618</td>\n",
              "      <td>5.004678</td>\n",
              "      <td>0.122300</td>\n",
              "    </tr>\n",
              "  </tbody>\n",
              "</table>\n",
              "</div>\n",
              "      <button class=\"colab-df-convert\" onclick=\"convertToInteractive('df-5ea72c18-57d9-4462-a0fd-d6adb247fa62')\"\n",
              "              title=\"Convert this dataframe to an interactive table.\"\n",
              "              style=\"display:none;\">\n",
              "\n",
              "  <svg xmlns=\"http://www.w3.org/2000/svg\" height=\"24px\"viewBox=\"0 0 24 24\"\n",
              "       width=\"24px\">\n",
              "    <path d=\"M0 0h24v24H0V0z\" fill=\"none\"/>\n",
              "    <path d=\"M18.56 5.44l.94 2.06.94-2.06 2.06-.94-2.06-.94-.94-2.06-.94 2.06-2.06.94zm-11 1L8.5 8.5l.94-2.06 2.06-.94-2.06-.94L8.5 2.5l-.94 2.06-2.06.94zm10 10l.94 2.06.94-2.06 2.06-.94-2.06-.94-.94-2.06-.94 2.06-2.06.94z\"/><path d=\"M17.41 7.96l-1.37-1.37c-.4-.4-.92-.59-1.43-.59-.52 0-1.04.2-1.43.59L10.3 9.45l-7.72 7.72c-.78.78-.78 2.05 0 2.83L4 21.41c.39.39.9.59 1.41.59.51 0 1.02-.2 1.41-.59l7.78-7.78 2.81-2.81c.8-.78.8-2.07 0-2.86zM5.41 20L4 18.59l7.72-7.72 1.47 1.35L5.41 20z\"/>\n",
              "  </svg>\n",
              "      </button>\n",
              "\n",
              "\n",
              "\n",
              "    <div id=\"df-093c86ba-39ed-46ea-a6e7-33c835ae5add\">\n",
              "      <button class=\"colab-df-quickchart\" onclick=\"quickchart('df-093c86ba-39ed-46ea-a6e7-33c835ae5add')\"\n",
              "              title=\"Suggest charts.\"\n",
              "              style=\"display:none;\">\n",
              "\n",
              "<svg xmlns=\"http://www.w3.org/2000/svg\" height=\"24px\"viewBox=\"0 0 24 24\"\n",
              "     width=\"24px\">\n",
              "    <g>\n",
              "        <path d=\"M19 3H5c-1.1 0-2 .9-2 2v14c0 1.1.9 2 2 2h14c1.1 0 2-.9 2-2V5c0-1.1-.9-2-2-2zM9 17H7v-7h2v7zm4 0h-2V7h2v10zm4 0h-2v-4h2v4z\"/>\n",
              "    </g>\n",
              "</svg>\n",
              "      </button>\n",
              "    </div>\n",
              "\n",
              "<style>\n",
              "  .colab-df-quickchart {\n",
              "    background-color: #E8F0FE;\n",
              "    border: none;\n",
              "    border-radius: 50%;\n",
              "    cursor: pointer;\n",
              "    display: none;\n",
              "    fill: #1967D2;\n",
              "    height: 32px;\n",
              "    padding: 0 0 0 0;\n",
              "    width: 32px;\n",
              "  }\n",
              "\n",
              "  .colab-df-quickchart:hover {\n",
              "    background-color: #E2EBFA;\n",
              "    box-shadow: 0px 1px 2px rgba(60, 64, 67, 0.3), 0px 1px 3px 1px rgba(60, 64, 67, 0.15);\n",
              "    fill: #174EA6;\n",
              "  }\n",
              "\n",
              "  [theme=dark] .colab-df-quickchart {\n",
              "    background-color: #3B4455;\n",
              "    fill: #D2E3FC;\n",
              "  }\n",
              "\n",
              "  [theme=dark] .colab-df-quickchart:hover {\n",
              "    background-color: #434B5C;\n",
              "    box-shadow: 0px 1px 3px 1px rgba(0, 0, 0, 0.15);\n",
              "    filter: drop-shadow(0px 1px 2px rgba(0, 0, 0, 0.3));\n",
              "    fill: #FFFFFF;\n",
              "  }\n",
              "</style>\n",
              "\n",
              "    <script>\n",
              "      async function quickchart(key) {\n",
              "        const containerElement = document.querySelector('#' + key);\n",
              "        const charts = await google.colab.kernel.invokeFunction(\n",
              "            'suggestCharts', [key], {});\n",
              "      }\n",
              "    </script>\n",
              "\n",
              "      <script>\n",
              "\n",
              "function displayQuickchartButton(domScope) {\n",
              "  let quickchartButtonEl =\n",
              "    domScope.querySelector('#df-093c86ba-39ed-46ea-a6e7-33c835ae5add button.colab-df-quickchart');\n",
              "  quickchartButtonEl.style.display =\n",
              "    google.colab.kernel.accessAllowed ? 'block' : 'none';\n",
              "}\n",
              "\n",
              "        displayQuickchartButton(document);\n",
              "      </script>\n",
              "      <style>\n",
              "    .colab-df-container {\n",
              "      display:flex;\n",
              "      flex-wrap:wrap;\n",
              "      gap: 12px;\n",
              "    }\n",
              "\n",
              "    .colab-df-convert {\n",
              "      background-color: #E8F0FE;\n",
              "      border: none;\n",
              "      border-radius: 50%;\n",
              "      cursor: pointer;\n",
              "      display: none;\n",
              "      fill: #1967D2;\n",
              "      height: 32px;\n",
              "      padding: 0 0 0 0;\n",
              "      width: 32px;\n",
              "    }\n",
              "\n",
              "    .colab-df-convert:hover {\n",
              "      background-color: #E2EBFA;\n",
              "      box-shadow: 0px 1px 2px rgba(60, 64, 67, 0.3), 0px 1px 3px 1px rgba(60, 64, 67, 0.15);\n",
              "      fill: #174EA6;\n",
              "    }\n",
              "\n",
              "    [theme=dark] .colab-df-convert {\n",
              "      background-color: #3B4455;\n",
              "      fill: #D2E3FC;\n",
              "    }\n",
              "\n",
              "    [theme=dark] .colab-df-convert:hover {\n",
              "      background-color: #434B5C;\n",
              "      box-shadow: 0px 1px 3px 1px rgba(0, 0, 0, 0.15);\n",
              "      filter: drop-shadow(0px 1px 2px rgba(0, 0, 0, 0.3));\n",
              "      fill: #FFFFFF;\n",
              "    }\n",
              "  </style>\n",
              "\n",
              "      <script>\n",
              "        const buttonEl =\n",
              "          document.querySelector('#df-5ea72c18-57d9-4462-a0fd-d6adb247fa62 button.colab-df-convert');\n",
              "        buttonEl.style.display =\n",
              "          google.colab.kernel.accessAllowed ? 'block' : 'none';\n",
              "\n",
              "        async function convertToInteractive(key) {\n",
              "          const element = document.querySelector('#df-5ea72c18-57d9-4462-a0fd-d6adb247fa62');\n",
              "          const dataTable =\n",
              "            await google.colab.kernel.invokeFunction('convertToInteractive',\n",
              "                                                     [key], {});\n",
              "          if (!dataTable) return;\n",
              "\n",
              "          const docLinkHtml = 'Like what you see? Visit the ' +\n",
              "            '<a target=\"_blank\" href=https://colab.research.google.com/notebooks/data_table.ipynb>data table notebook</a>'\n",
              "            + ' to learn more about interactive tables.';\n",
              "          element.innerHTML = '';\n",
              "          dataTable['output_type'] = 'display_data';\n",
              "          await google.colab.output.renderOutput(dataTable, element);\n",
              "          const docLink = document.createElement('div');\n",
              "          docLink.innerHTML = docLinkHtml;\n",
              "          element.appendChild(docLink);\n",
              "        }\n",
              "      </script>\n",
              "    </div>\n",
              "  </div>\n"
            ]
          },
          "metadata": {},
          "execution_count": 11
        }
      ]
    },
    {
      "cell_type": "code",
      "source": [
        "import matplotlib.pyplot as plt\n",
        "#algorithms_result.iloc[0]\n",
        "plt.figure(figsize=(10, 6))\n",
        "x = np.arange(len(algorithms_result.columns))\n",
        "plt.bar(x-0.15, algorithms_result.iloc[0], width=0.3, label='RMSE')\n",
        "plt.bar(x+0.15, algorithms_result.iloc[1], width=0.3, label='MAE')\n",
        "for index, value in enumerate(algorithms_result.iloc[0]):\n",
        "  plt.text(index, value, str(round(value, 3)), ha='right', va='bottom')\n",
        "for index, value in enumerate(algorithms_result.iloc[1]):\n",
        "  plt.text(index, value, str(round(value, 3)), ha='left', va='bottom')\n",
        "plt.grid()\n",
        "plt.legend()\n",
        "plt.title('MAE, RMSE values')\n",
        "plt.show()"
      ],
      "metadata": {
        "colab": {
          "base_uri": "https://localhost:8080/",
          "height": 545
        },
        "id": "j66h3ycae2-A",
        "outputId": "5051d891-01dc-4e0e-962a-c7829dddd0b3"
      },
      "execution_count": null,
      "outputs": [
        {
          "output_type": "display_data",
          "data": {
            "text/plain": [
              "<Figure size 1000x600 with 1 Axes>"
            ],
            "image/png": "[encoded data removed]"
          },
          "metadata": {}
        }
      ]
    },
    {
      "cell_type": "markdown",
      "source": [
        "**Train Data**"
      ],
      "metadata": {
        "id": "T9OZqgkNbGQ9"
      }
    },
    {
      "cell_type": "code",
      "source": [
        "train_data, test_data = train_test_split(data, test_size=0.25)\n",
        "\n",
        "svd_train = algorithms[0].fit(train_data)\n",
        "svdpp_train = algorithms[1].fit(train_data)\n",
        "nmf_train = algorithms[2].fit(train_data)"
      ],
      "metadata": {
        "id": "1h8XRI2QbKL2"
      },
      "execution_count": null,
      "outputs": []
    },
    {
      "cell_type": "code",
      "source": [
        "svd_predict = svd_train.test(test_data)\n",
        "svdpp_predict = svdpp_train.test(test_data)\n",
        "nmf_predict = nmf_train.test(test_data)"
      ],
      "metadata": {
        "id": "8GNtYpDumlIi"
      },
      "execution_count": null,
      "outputs": []
    },
    {
      "cell_type": "code",
      "source": [
        "svd_rmse = accuracy.rmse(svd_predict)\n",
        "svdpp_rmse = accuracy.rmse(svdpp_predict)\n",
        "nmf_rmse = accuracy.rmse(nmf_predict)\n",
        "print(f'SVD RMSE: {svd_rmse}')\n",
        "print(f'SVDpp RMSE: {svdpp_rmse}')\n",
        "print(f'NMF RMSE: {nmf_rmse}')"
      ],
      "metadata": {
        "colab": {
          "base_uri": "https://localhost:8080/"
        },
        "id": "QAKK1rYwqNhN",
        "outputId": "4724a264-013b-4d04-c550-275ac33609fa"
      },
      "execution_count": null,
      "outputs": [
        {
          "output_type": "stream",
          "name": "stdout",
          "text": [
            "RMSE: 0.9359\n",
            "RMSE: 0.9213\n",
            "RMSE: 0.9616\n",
            "SVD RMSE: 0.9358608247195119\n",
            "SVDpp RMSE: 0.9212524197477157\n",
            "NMF RMSE: 0.9615558628096598\n"
          ]
        }
      ]
    },
    {
      "cell_type": "markdown",
      "source": [
        "Як можна побачити з отриманих результатів  алгоритм **NMF** показує кращу ефективність порівняно з **SVD** і **SVDpp** з бібліотеки surprise для даного датасету movielens"
      ],
      "metadata": {
        "id": "sSxO2paSq9BM"
      }
    }
  ]
}